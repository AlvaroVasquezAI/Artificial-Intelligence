{
 "cells": [
  {
   "attachments": {},
   "cell_type": "markdown",
   "metadata": {},
   "source": [
    "<h1><strong>INFORMED (HEURISTIC) SEARCH STRATEGIES</strong></h1>"
   ]
  },
  {
   "attachments": {},
   "cell_type": "markdown",
   "metadata": {},
   "source": [
    "This section shows how an informed search strategy -one that uses problems-specific knowledge beyond the definition of the problem itself- can find solutions more efficiently than can an uniformed strategy.\n",
    "\n",
    "The general approach we consider is called <strong> best-first search</strong>. Best-first search is an instance of the general TREE-SEARCH or GRAPH-SEARCH algorithm in which a noed is selected for expansion based on an <strong>evaluation function</strong>, $f(n)$. The evaluation function is construed as a cost estimate, so the node with the lowest evaluation is expanded first. The implementation of best-first graph search is identical to that for uniform-cost search, except for the use of $f$ instead of $g$ to order the priority queue.\n",
    "\n",
    "The choice of $f$ determines the search strategy. Most best-first algorithms include as a component of $f$ a heuristic evaluation function, denoted $h(n)$:\n",
    "\n",
    "- $h(n)$ = estimated cost of the cheapest path from the state at node $n$ to a goal state.\n",
    "\n",
    "(Notice that $h(n)$ takes a node as input, but, unlike $g(n)$, it depends only on the state at that node.)\n",
    "\n",
    "Heuristic functions are the most common form in which additional knowledge of the problem is imparted to the search algorithm. \n"
   ]
  },
  {
   "attachments": {},
   "cell_type": "markdown",
   "metadata": {},
   "source": [
    "<h2> Greedy Best-First Search</h2>"
   ]
  },
  {
   "attachments": {},
   "cell_type": "markdown",
   "metadata": {},
   "source": [
    "<strong>Greedy best-first search</strong> tries to expand the node that is closest to the goal, on the grounds that this is likely to lead to a solution quickly. Thus, it evaluates nodes by using just the heuristic function; that is $f(n) = h(n)$."
   ]
  },
  {
   "attachments": {},
   "cell_type": "markdown",
   "metadata": {},
   "source": [
    "Let's see how this works in practice. We will use the next example."
   ]
  },
  {
   "attachments": {},
   "cell_type": "markdown",
   "metadata": {},
   "source": [
    "Let's suppose you have a maze where you need to find the exit. Each cell of the maze represents a state in the search space, and you can move in four directions: up, down, left, and right.\n",
    "\n",
    "The Greedy Best-First Search algorithm uses a heuristic function that estimates the direct distance from each state to the goal state (the maze exit). In this case, we can use the Manhattan distance, which measures the horizontal and vertical distance between two points on a plane.\n",
    "\n",
    "Let's imagine that the maze is represented as a grid, where the position (0,0) is the top-left corner and the position (n,n) is the bottom-right corner. We start at the initial state (0,0) and want to find the shortest path to the exit at position (n,n)."
   ]
  },
  {
   "cell_type": "code",
   "execution_count": 1,
   "metadata": {},
   "outputs": [
    {
     "name": "stdout",
     "output_type": "stream",
     "text": [
      "There is a path to the exit.\n"
     ]
    }
   ],
   "source": [
    "import heapq\n",
    "\n",
    "# Heuristic function of Manhattan distance\n",
    "def heuristic(node, goal):\n",
    "    return abs(node[0] - goal[0]) + abs(node[1] - goal[1])\n",
    "\n",
    "# Greedy best-first search algorithm\n",
    "def greedy_best_first_search(maze, start, goal):\n",
    "    rows, cols = len(maze), len(maze[0])\n",
    "    visited = set()\n",
    "    queue = []\n",
    "    heapq.heappush(queue, (heuristic(start, goal), start)) # Initial state with heuristic priority\n",
    "\n",
    "    while queue:\n",
    "        _, node = heapq.heappop(queue)\n",
    "\n",
    "        if node == goal:\n",
    "            return True  # Objetive found, a solution has been found\n",
    "\n",
    "        visited.add(node)\n",
    "\n",
    "        neighbors = [(node[0] - 1, node[1]),  # Up\n",
    "                     (node[0] + 1, node[1]),  # Down\n",
    "                     (node[0], node[1] - 1),  # Left\n",
    "                     (node[0], node[1] + 1)]  # Right\n",
    "\n",
    "        for neighbor in neighbors:\n",
    "            if (0 <= neighbor[0] < rows and 0 <= neighbor[1] < cols and\n",
    "                    maze[neighbor[0]][neighbor[1]] == 0 and neighbor not in visited):\n",
    "                heapq.heappush(queue, (heuristic(neighbor, goal), neighbor))\n",
    "\n",
    "    return False # No solution was found\n",
    "\n",
    "# Ejemplo de uso\n",
    "maze = [[0, 1, 0, 0, 0],\n",
    "        [0, 1, 0, 1, 0],\n",
    "        [0, 0, 0, 0, 0],\n",
    "        [0, 1, 1, 1, 0],\n",
    "        [0, 0, 0, 0, 0]]\n",
    "\n",
    "start = (0, 0)\n",
    "goal = (4, 4)\n",
    "\n",
    "if greedy_best_first_search(maze, start, goal):\n",
    "    print(\"There is a path to the exit.\")\n",
    "else:\n",
    "    print(\"There is no path to the exit.\")\n"
   ]
  },
  {
   "attachments": {},
   "cell_type": "markdown",
   "metadata": {},
   "source": [
    "In this example, we use the 'heuristic()' function to calculate the heuristic value of each node. The heuristic function is the Manhattan distance between the current node and the goal node. The Manhattan distance is the distance between two points measured along axes at right angles. In a plane with $p_1$ at $(x_1, y_1)$ and $p_2$ at $(x_2, y_2)$, it is $|x_1 - x_2| + |y_1 - y_2|$. Then, we use the 'greedy_best_first_graph_search()' function to find the path from the initial node to the goal node, notice that we use pripory queue to order the nodes.\n",
    "\n",
    "The maze is repesentated by a matrix, where the value 0 means that the cell is a path, and the value 1 means that the cell is a wall. The function 'greeedy_best_first_graph_search()' takes the maze, the initial node and the goal node as parameters, and returns 'True' if there is a path between the initial node and the goal node, otherwise it returns 'False'.\n",
    "\n",
    "In the example of use, a 5x5 maze is defined and the initial node (0, 0) and the goal node (4, 4) are specified. The program runs the search algorithm and displays a message indicating whether a path to the exit was found or not."
   ]
  },
  {
   "attachments": {},
   "cell_type": "markdown",
   "metadata": {},
   "source": [
    "<h2>A* search: Minimizing the total estimated solution cost</h2>"
   ]
  },
  {
   "attachments": {},
   "cell_type": "markdown",
   "metadata": {},
   "source": [
    "The most widely known form of best-first search is called <strong>A* search</strong> (pronounced \"A-star search\"). It evaluates nodes by combining $g(n)$, the cost to reach the node, and $h(n)$, the cost to get from the node to the goal:\n",
    "\n",
    "- $f(n) = g(n) + h(n)$\n",
    "\n",
    "Since $g(n)$ gives the path cost from the start node to node $n$, and $h(n)$ is the estimated cost of the cheapest path from $n$ to the goal, we have:\n",
    "\n",
    "- $f(n)$ = estimated cost of the cheapest solution through $n$.\n",
    "\n",
    "Thus, if we are trying to find the cheapest solution, a reasonable thing to try first is the node with the lowest value of $g(n) + h(n)$. It returns out that this strategy is more than just reasonable: provided that the heuristic function $h(n)$ satisfies certain conditions, A* search is both complete and optimal. The algorithm is identical to uniform-cost search except in the use of $f$ instead of $g$."
   ]
  },
  {
   "attachments": {},
   "cell_type": "markdown",
   "metadata": {},
   "source": [
    "Let's see how this works in practice. We will use the next example.\n",
    "\n",
    "Suppose you have a weighted undirected graph, where each node represents a location and each edge has an associated cost that represents the distance between the locations. The goal is to find the shortest path from a starting node to a target node in this graph."
   ]
  },
  {
   "cell_type": "code",
   "execution_count": 2,
   "metadata": {},
   "outputs": [
    {
     "name": "stdout",
     "output_type": "stream",
     "text": [
      "There is a path to the goal: (0, 0) -> (1, 0) -> (1, 1) -> (3, 0)\n"
     ]
    }
   ],
   "source": [
    "import heapq\n",
    "\n",
    "# Heuristic function (Euclidean distance)\n",
    "def heuristic(node, goal):\n",
    "    return ((node[0] - goal[0]) ** 2 + (node[1] - goal[1]) ** 2) ** 0.5\n",
    "\n",
    "# A* search algorithm\n",
    "def astar_search(graph, start, goal):\n",
    "    visited = set()\n",
    "    queue = []\n",
    "    heapq.heappush(queue, (0, start, []))  # Initial state with cost priority\n",
    "\n",
    "    while queue:\n",
    "        current_cost, current_node, current_path = heapq.heappop(queue)\n",
    "\n",
    "        if current_node == goal:\n",
    "            return current_path + [current_node]  # Objective found, a solution has been found\n",
    "\n",
    "        visited.add(current_node)\n",
    "\n",
    "        for neighbor, cost in graph[current_node]:\n",
    "            if neighbor not in visited:\n",
    "                new_cost = current_cost + cost\n",
    "                new_path = current_path + [current_node]\n",
    "                heapq.heappush(queue, (new_cost + heuristic(neighbor, goal), neighbor, new_path))\n",
    "\n",
    "    return None  # No solution was found\n",
    "\n",
    "# Example of use\n",
    "graph = {\n",
    "    (0, 0): [((1, 0), 2), ((0, 1), 5)],\n",
    "    (1, 0): [((2, 0), 3), ((1, 1), 4)],\n",
    "    (0, 1): [((0, 2), 1)],\n",
    "    (2, 0): [((3, 0), 7)],\n",
    "    (1, 1): [((3, 0), 4)],\n",
    "    (0, 2): [((3, 0), 3)],\n",
    "    (3, 0): []\n",
    "}\n",
    "\n",
    "start = (0, 0)\n",
    "goal = (3, 0)\n",
    "\n",
    "path = astar_search(graph, start, goal)\n",
    "if path:\n",
    "    print(\"There is a path to the goal:\", ' -> '.join(map(str, path)))\n",
    "else:\n",
    "    print(\"There is no path to the goal.\")\n"
   ]
  },
  {
   "attachments": {},
   "cell_type": "markdown",
   "metadata": {},
   "source": [
    "<h2>Memory-bounded heuristic search</h2>"
   ]
  },
  {
   "attachments": {},
   "cell_type": "markdown",
   "metadata": {},
   "source": [
    "Memory-bounded heuristic search, also known as MA* (Memory-bounded A*), is a search algorithm that combines elements of heuristic search and depth-first search to find a solution in memory-constrained enviroments.\n",
    "\n",
    "In traditional heuristic search algorithms like A*, the entire search tree is stored in memory, which can be computationally expensive and memory-intensive for large search spaces. MA* addresses this issue by limiting the amount of memory used during the search.\n",
    "\n",
    "MA* achieves memory efficiency by storing only a subset of the search tree in memory, prioritizing nodes based on their heuristic values. It uses an iterative deepening approach, where it explores the search space in a depth-first manner, but prunes branches that exceed the memory limit.\n",
    "\n",
    "At each iteration, MA* expands the most promising node based on the heuristic function. If the memory limit is reached, it uses a backup strategy to store necessary information and prunes the least promising branches. The algorithm continues until it finds a solution or exhausts all available memory.\n",
    "\n",
    "By intelligently managing memory usage, MA* provides a trade-off between memory efficiency and optimality in finding the shortest path or solution in memory-constrained scenarios."
   ]
  },
  {
   "attachments": {},
   "cell_type": "markdown",
   "metadata": {},
   "source": [
    "Let's see how this works in practice. We will use the next example."
   ]
  },
  {
   "attachments": {},
   "cell_type": "markdown",
   "metadata": {},
   "source": [
    "Guess we have a weighted undirected graph that represents a network of roads between cities. Each node of the graph represents a city and each edge has an associated cost that represents the distance between the cities. The goal is to find the shortest path from a starting city to a target city in this graph.\n",
    "\n",
    "We will apply the memory-bounded heuristic search algorithm (MA*) to find the shortest path. Suppose we have the following graph:\n",
    "\n",
    "Where the edges have the following costs:\n",
    "\n",
    "- (A, B): 2\n",
    "- (B, C): 3\n",
    "- (A, D): 4\n",
    "- (B, E): 1\n",
    "- (D, E): 2\n",
    "\n",
    "Guess we want to find the shortest path from city A to city C using MA*. We define city A as the starting city and city C as the target city.\n",
    "\n",
    "The algorithm would work as follows:\n",
    "\n",
    "1. A memory limit is set for the search.\n",
    "2. It starts with a depth level 0.\n",
    "3. The origin node A is expanded and its successors B and D are generated. The heuristic value is calculated for each successor (for example, the straight-line distance between the successor city and the target city) and they are ordered based on this value.\n",
    "4. The successor with the lowest heuristic value is selected, in this case, city B. It is marked as visited and added to the partial route.\n",
    "5. It is checked if the established memory limit has been reached. If so, a backup of the information necessary to continue from this point is made.\n",
    "6. City B is expanded and its successors C and E are generated. The heuristic value is calculated for each successor and they are ordered.\n",
    "7. The successor with the lowest heuristic value is selected, in this case, city C. It is marked as visited and added to the partial route.\n",
    "8. It is checked if the memory limit has been reached. If so, a backup is made.\n",
    "9. The goal is reached, since city C is the target node. The partial route (A -> B -> C) is returned as the solution found."
   ]
  },
  {
   "cell_type": "code",
   "execution_count": 3,
   "metadata": {},
   "outputs": [
    {
     "name": "stdout",
     "output_type": "stream",
     "text": [
      "There is a path to the goal: A -> B -> C\n"
     ]
    }
   ],
   "source": [
    "import heapq\n",
    "\n",
    "# Heuristic function\n",
    "def heuristic(node, goal):\n",
    "    return 0  # No heuristic information for this example\n",
    "\n",
    "# MA* search algorithm\n",
    "def ma_star_search(graph, start, goal, memory_limit):\n",
    "    visited = set()\n",
    "    queue = []\n",
    "    heapq.heappush(queue, (heuristic(start, goal), start, []))  # Initial state with heuristic priority\n",
    "\n",
    "    while queue:\n",
    "        current_heuristic, current_node, current_path = heapq.heappop(queue)\n",
    "\n",
    "        if current_node == goal:\n",
    "            return current_path + [current_node]  # Goal found, a solution has been found\n",
    "\n",
    "        visited.add(current_node)\n",
    "\n",
    "        for neighbor, cost in graph[current_node]:\n",
    "            if neighbor not in visited:\n",
    "                new_path = current_path + [current_node]\n",
    "                heapq.heappush(queue, (heuristic(neighbor, goal), neighbor, new_path))\n",
    "\n",
    "        # Memory limit check\n",
    "        if len(queue) > memory_limit:\n",
    "            backup_queue = queue\n",
    "            queue = heapq.nsmallest(memory_limit, queue)\n",
    "\n",
    "    return None  # No solution was found\n",
    "\n",
    "# Example of use\n",
    "graph = {\n",
    "    'A': [('B', 2), ('D', 4)],\n",
    "    'B': [('A', 2), ('C', 3), ('E', 1)],\n",
    "    'C': [('B', 3)],\n",
    "    'D': [('A', 4), ('E', 2)],\n",
    "    'E': [('B', 1), ('D', 2)]\n",
    "}\n",
    "\n",
    "start = 'A'\n",
    "goal = 'C'\n",
    "memory_limit = 5\n",
    "\n",
    "path = ma_star_search(graph, start, goal, memory_limit)\n",
    "if path:\n",
    "    print(\"There is a path to the goal:\", ' -> '.join(path))\n",
    "else:\n",
    "    print(\"There is no path to the goal.\")\n"
   ]
  },
  {
   "attachments": {},
   "cell_type": "markdown",
   "metadata": {},
   "source": [
    "This program uses a dictionary graph to represent the graph, where the keys are the nodes and the values are lists of tuples containing the neighbors and the associated costs. The start node (start), the goal node (goal) and the memory limit (memory_limit) are established.\n",
    "\n",
    "The MA* algorithm is implemented in the ma_star_search function, which uses a priority queue to store the nodes to be expanded. The heuristic used is the Manhattan distance. A memory limit check is performed at each iteration, using a backup queue to store additional information if necessary.\n",
    "\n",
    "When running the program, it will be shown if there is a path to the goal or not. If there is a path, the route found will be printed."
   ]
  }
 ],
 "metadata": {
  "kernelspec": {
   "display_name": "Python 3",
   "language": "python",
   "name": "python3"
  },
  "language_info": {
   "codemirror_mode": {
    "name": "ipython",
    "version": 3
   },
   "file_extension": ".py",
   "mimetype": "text/x-python",
   "name": "python",
   "nbconvert_exporter": "python",
   "pygments_lexer": "ipython3",
   "version": "3.11.3"
  },
  "orig_nbformat": 4
 },
 "nbformat": 4,
 "nbformat_minor": 2
}
